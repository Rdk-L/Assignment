{
  "nbformat": 4,
  "nbformat_minor": 0,
  "metadata": {
    "colab": {
      "provenance": []
    },
    "kernelspec": {
      "name": "python3",
      "display_name": "Python 3"
    },
    "language_info": {
      "name": "python"
    }
  },
  "cells": [
    {
      "cell_type": "markdown",
      "source": [
        "ASSIGNMENT\n",
        "\n",
        "* Download the xml from the link\n",
        "* From the xml, please parse through to the first download link whose file_type is DLTINS and download the zip\n",
        "* Extract the xml from the zip.\n",
        "* Convert the contents of the xml into a CSV with the following header:\n",
        "  * FinInstrmGnlAttrbts.Id\n",
        "  *FinInstrmGnlAttrbts.FullNm\n",
        "  *FinInstrmGnlAttrbts.ClssfctnTp\n",
        "  *FinInstrmGnlAttrbts.CmmdtyDerivInd\n",
        "  *FinInstrmGnlAttrbts.NtnlCcy\n",
        "  *Issr"
      ],
      "metadata": {
        "id": "crUJcjrva6to"
      }
    },
    {
      "cell_type": "code",
      "source": [
        "from urllib.request import urlopen\n",
        "import xml.etree.ElementTree as et\n",
        "\n",
        "url = urlopen(r'https://registers.esma.europa.eu/solr/esma_registers_firds_files/select?q=*&fq=publication_date:%5B2021-01-17T00:00:00Z+TO+2021-01-19T23:59:59Z%5D&wt=xml&indent=true&start=0&rows=100')\n",
        "xmldoc = et.parse(url)"
      ],
      "metadata": {
        "id": "tppSOWpnlzfT"
      },
      "execution_count": null,
      "outputs": []
    },
    {
      "cell_type": "code",
      "source": [
        "root = xmldoc.getroot()"
      ],
      "metadata": {
        "id": "2Ez1X9nrlzb8"
      },
      "execution_count": null,
      "outputs": []
    },
    {
      "cell_type": "code",
      "source": [
        "for i in root[1][0]:\n",
        "  print(i.text)"
      ],
      "metadata": {
        "id": "cw4XDB9bMCyQ",
        "colab": {
          "base_uri": "https://localhost:8080/"
        },
        "outputId": "9c27f05c-defd-413b-c78f-94c9b219f812"
      },
      "execution_count": null,
      "outputs": [
        {
          "output_type": "stream",
          "name": "stdout",
          "text": [
            "852b2dde71cf114289ad95ada2a4e406\n",
            "http://firds.esma.europa.eu/firds/DLTINS_20210117_01of01.zip\n",
            "2021-01-17T00:00:00Z\n",
            "46015\n",
            "46015\n",
            "46015\n",
            "DLTINS_20210117_01of01.zip\n",
            "DLTINS\n",
            "1745364946483412993\n",
            "2022-09-30T03:48:42.217Z\n"
          ]
        }
      ]
    },
    {
      "cell_type": "code",
      "source": [
        "import requests\n",
        "URL = root[1][0][1].text\n",
        "\n",
        "r = requests.get(URL)"
      ],
      "metadata": {
        "id": "erTmQcrBytfP"
      },
      "execution_count": null,
      "outputs": []
    },
    {
      "cell_type": "code",
      "source": [
        "from io import BytesIO\n",
        "import zipfile\n",
        "\n",
        "z = zipfile.ZipFile(BytesIO(r.content))\n",
        "z.extractall('/content/sample_data/new_folder')"
      ],
      "metadata": {
        "id": "oWP2URI_28cL"
      },
      "execution_count": null,
      "outputs": []
    },
    {
      "cell_type": "code",
      "source": [
        "import pandas as pd\n",
        "\n",
        "p = pd.read_xml(r'/content/sample_data/new_folder/DLTINS_20210117_01of01.xml')\n",
        "p"
      ],
      "metadata": {
        "id": "YwSfzBVl3HGh",
        "colab": {
          "base_uri": "https://localhost:8080/",
          "height": 112
        },
        "outputId": "ece29c68-1fda-42fe-a26b-25f7ca493661"
      },
      "execution_count": null,
      "outputs": [
        {
          "output_type": "execute_result",
          "data": {
            "text/plain": [
              "   AppHdr  Document\n",
              "0     NaN       NaN\n",
              "1     NaN       NaN"
            ],
            "text/html": [
              "\n",
              "  <div id=\"df-48053696-7d4b-4804-a4f8-6feca64bda18\">\n",
              "    <div class=\"colab-df-container\">\n",
              "      <div>\n",
              "<style scoped>\n",
              "    .dataframe tbody tr th:only-of-type {\n",
              "        vertical-align: middle;\n",
              "    }\n",
              "\n",
              "    .dataframe tbody tr th {\n",
              "        vertical-align: top;\n",
              "    }\n",
              "\n",
              "    .dataframe thead th {\n",
              "        text-align: right;\n",
              "    }\n",
              "</style>\n",
              "<table border=\"1\" class=\"dataframe\">\n",
              "  <thead>\n",
              "    <tr style=\"text-align: right;\">\n",
              "      <th></th>\n",
              "      <th>AppHdr</th>\n",
              "      <th>Document</th>\n",
              "    </tr>\n",
              "  </thead>\n",
              "  <tbody>\n",
              "    <tr>\n",
              "      <th>0</th>\n",
              "      <td>NaN</td>\n",
              "      <td>NaN</td>\n",
              "    </tr>\n",
              "    <tr>\n",
              "      <th>1</th>\n",
              "      <td>NaN</td>\n",
              "      <td>NaN</td>\n",
              "    </tr>\n",
              "  </tbody>\n",
              "</table>\n",
              "</div>\n",
              "      <button class=\"colab-df-convert\" onclick=\"convertToInteractive('df-48053696-7d4b-4804-a4f8-6feca64bda18')\"\n",
              "              title=\"Convert this dataframe to an interactive table.\"\n",
              "              style=\"display:none;\">\n",
              "        \n",
              "  <svg xmlns=\"http://www.w3.org/2000/svg\" height=\"24px\"viewBox=\"0 0 24 24\"\n",
              "       width=\"24px\">\n",
              "    <path d=\"M0 0h24v24H0V0z\" fill=\"none\"/>\n",
              "    <path d=\"M18.56 5.44l.94 2.06.94-2.06 2.06-.94-2.06-.94-.94-2.06-.94 2.06-2.06.94zm-11 1L8.5 8.5l.94-2.06 2.06-.94-2.06-.94L8.5 2.5l-.94 2.06-2.06.94zm10 10l.94 2.06.94-2.06 2.06-.94-2.06-.94-.94-2.06-.94 2.06-2.06.94z\"/><path d=\"M17.41 7.96l-1.37-1.37c-.4-.4-.92-.59-1.43-.59-.52 0-1.04.2-1.43.59L10.3 9.45l-7.72 7.72c-.78.78-.78 2.05 0 2.83L4 21.41c.39.39.9.59 1.41.59.51 0 1.02-.2 1.41-.59l7.78-7.78 2.81-2.81c.8-.78.8-2.07 0-2.86zM5.41 20L4 18.59l7.72-7.72 1.47 1.35L5.41 20z\"/>\n",
              "  </svg>\n",
              "      </button>\n",
              "      \n",
              "  <style>\n",
              "    .colab-df-container {\n",
              "      display:flex;\n",
              "      flex-wrap:wrap;\n",
              "      gap: 12px;\n",
              "    }\n",
              "\n",
              "    .colab-df-convert {\n",
              "      background-color: #E8F0FE;\n",
              "      border: none;\n",
              "      border-radius: 50%;\n",
              "      cursor: pointer;\n",
              "      display: none;\n",
              "      fill: #1967D2;\n",
              "      height: 32px;\n",
              "      padding: 0 0 0 0;\n",
              "      width: 32px;\n",
              "    }\n",
              "\n",
              "    .colab-df-convert:hover {\n",
              "      background-color: #E2EBFA;\n",
              "      box-shadow: 0px 1px 2px rgba(60, 64, 67, 0.3), 0px 1px 3px 1px rgba(60, 64, 67, 0.15);\n",
              "      fill: #174EA6;\n",
              "    }\n",
              "\n",
              "    [theme=dark] .colab-df-convert {\n",
              "      background-color: #3B4455;\n",
              "      fill: #D2E3FC;\n",
              "    }\n",
              "\n",
              "    [theme=dark] .colab-df-convert:hover {\n",
              "      background-color: #434B5C;\n",
              "      box-shadow: 0px 1px 3px 1px rgba(0, 0, 0, 0.15);\n",
              "      filter: drop-shadow(0px 1px 2px rgba(0, 0, 0, 0.3));\n",
              "      fill: #FFFFFF;\n",
              "    }\n",
              "  </style>\n",
              "\n",
              "      <script>\n",
              "        const buttonEl =\n",
              "          document.querySelector('#df-48053696-7d4b-4804-a4f8-6feca64bda18 button.colab-df-convert');\n",
              "        buttonEl.style.display =\n",
              "          google.colab.kernel.accessAllowed ? 'block' : 'none';\n",
              "\n",
              "        async function convertToInteractive(key) {\n",
              "          const element = document.querySelector('#df-48053696-7d4b-4804-a4f8-6feca64bda18');\n",
              "          const dataTable =\n",
              "            await google.colab.kernel.invokeFunction('convertToInteractive',\n",
              "                                                     [key], {});\n",
              "          if (!dataTable) return;\n",
              "\n",
              "          const docLinkHtml = 'Like what you see? Visit the ' +\n",
              "            '<a target=\"_blank\" href=https://colab.research.google.com/notebooks/data_table.ipynb>data table notebook</a>'\n",
              "            + ' to learn more about interactive tables.';\n",
              "          element.innerHTML = '';\n",
              "          dataTable['output_type'] = 'display_data';\n",
              "          await google.colab.output.renderOutput(dataTable, element);\n",
              "          const docLink = document.createElement('div');\n",
              "          docLink.innerHTML = docLinkHtml;\n",
              "          element.appendChild(docLink);\n",
              "        }\n",
              "      </script>\n",
              "    </div>\n",
              "  </div>\n",
              "  "
            ]
          },
          "metadata": {},
          "execution_count": 5
        }
      ]
    },
    {
      "cell_type": "code",
      "source": [
        "pip install xmltodict"
      ],
      "metadata": {
        "colab": {
          "base_uri": "https://localhost:8080/"
        },
        "id": "N_hfUASrZhAO",
        "outputId": "a68f3003-e465-425e-f7da-427b0b58d672"
      },
      "execution_count": null,
      "outputs": [
        {
          "output_type": "stream",
          "name": "stdout",
          "text": [
            "Looking in indexes: https://pypi.org/simple, https://us-python.pkg.dev/colab-wheels/public/simple/\n",
            "Collecting xmltodict\n",
            "  Downloading xmltodict-0.13.0-py2.py3-none-any.whl (10.0 kB)\n",
            "Installing collected packages: xmltodict\n",
            "Successfully installed xmltodict-0.13.0\n"
          ]
        }
      ]
    },
    {
      "cell_type": "code",
      "source": [
        "import json\n",
        "import xmltodict\n",
        "\n",
        "with open(r'/content/sample_data/new_folder/DLTINS_20210117_01of01.xml') as xml_file:\n",
        "  data = xmltodict.parse(xml_file.read())\n",
        "  jdata = json.dumps(data)\n",
        "\n",
        "  with open('/content/sample_data/new_folder/jdata.json','w') as jfile:\n",
        "    jfile.write(jdata)"
      ],
      "metadata": {
        "id": "1l0_skPYZg9O"
      },
      "execution_count": null,
      "outputs": []
    },
    {
      "cell_type": "code",
      "source": [
        "import pandas as pd\n",
        "P = pd.read_json(r'/content/sample_data/new_folder/jdata.json')"
      ],
      "metadata": {
        "id": "MVq35DsBgyH3"
      },
      "execution_count": null,
      "outputs": []
    },
    {
      "cell_type": "code",
      "source": [
        "d = P.loc['Pyld'][0]"
      ],
      "metadata": {
        "id": "WjQKc18i_uGu"
      },
      "execution_count": null,
      "outputs": []
    },
    {
      "cell_type": "code",
      "source": [
        "df = dict()\n",
        "df['FinInstrmGnlAttrbts.Id'] = []\n",
        "df['FinInstrmGnlAttrbts.FullNm'] = []\n",
        "df['FinInstrmGnlAttrbts.ClssfctnTp'] = []\n",
        "df['FinInstrmGnlAttrbts.CmmdtyDerivInd'] = []\n",
        "df['FinInstrmGnlAttrbts.NtnlCcy'] = []\n",
        "df['Issr'] = []\n",
        "\n",
        "for i in range(141381):\n",
        "  df['FinInstrmGnlAttrbts.Id'].append(D[i][list(D[i].keys())[0]]['FinInstrmGnlAttrbts']['Id'])\n",
        "  df['FinInstrmGnlAttrbts.FullNm'].append(D[i][list(D[i].keys())[0]]['FinInstrmGnlAttrbts']['FullNm'])\n",
        "  df['FinInstrmGnlAttrbts.ClssfctnTp'].append(D[i][list(D[i].keys())[0]]['FinInstrmGnlAttrbts']['ClssfctnTp'])\n",
        "  df['FinInstrmGnlAttrbts.CmmdtyDerivInd'].append(D[i][list(D[i].keys())[0]]['FinInstrmGnlAttrbts']['CmmdtyDerivInd'])\n",
        "  df['FinInstrmGnlAttrbts.NtnlCcy'].append(D[i][list(D[i].keys())[0]]['FinInstrmGnlAttrbts']['NtnlCcy'])\n",
        "  df['Issr'].append(D[i][list(D[i].keys())[0]]['Issr'])\n",
        "  "
      ],
      "metadata": {
        "id": "yOKY6RN5JK2I"
      },
      "execution_count": null,
      "outputs": []
    },
    {
      "cell_type": "code",
      "source": [
        "DF = pd.DataFrame(df)"
      ],
      "metadata": {
        "id": "kbbH2RqrTOYb"
      },
      "execution_count": null,
      "outputs": []
    },
    {
      "cell_type": "code",
      "source": [
        "DF.head()"
      ],
      "metadata": {
        "colab": {
          "base_uri": "https://localhost:8080/",
          "height": 340
        },
        "id": "0S_E7H5TTTxT",
        "outputId": "be0a87ec-05f4-481c-a011-5e9f53e27662"
      },
      "execution_count": null,
      "outputs": [
        {
          "output_type": "execute_result",
          "data": {
            "text/plain": [
              "  FinInstrmGnlAttrbts.Id                         FinInstrmGnlAttrbts.FullNm  \\\n",
              "0           DE000A1R07V3    Kreditanst.f.Wiederaufbau     Anl.v.2014 (2021)   \n",
              "1           DE000A1R07V3                                 KFW 1 5/8 01/15/21   \n",
              "2           DE000A1R07V3        Kreditanst.f.Wiederaufbau Anl.v.2014 (2021)   \n",
              "3           DE000A1R07V3        Kreditanst.f.Wiederaufbau Anl.v.2014 (2021)   \n",
              "4           DE000A1X3J56  IKB Deutsche Industriebank AG Stufenz.MTN-IHS ...   \n",
              "\n",
              "  FinInstrmGnlAttrbts.ClssfctnTp FinInstrmGnlAttrbts.CmmdtyDerivInd  \\\n",
              "0                         DBFTFB                              false   \n",
              "1                         DBFTFB                              false   \n",
              "2                         DBFTFB                              false   \n",
              "3                         DBFTFB                              false   \n",
              "4                         DTVUFB                              false   \n",
              "\n",
              "  FinInstrmGnlAttrbts.NtnlCcy                  Issr  \n",
              "0                         EUR  549300GDPG70E3MBBU98  \n",
              "1                         EUR  549300GDPG70E3MBBU98  \n",
              "2                         EUR  549300GDPG70E3MBBU98  \n",
              "3                         EUR  549300GDPG70E3MBBU98  \n",
              "4                         EUR  PWEFG14QWWESISQ84C69  "
            ],
            "text/html": [
              "\n",
              "  <div id=\"df-7aad2756-9dda-41f5-bcdf-21e00ad6657d\">\n",
              "    <div class=\"colab-df-container\">\n",
              "      <div>\n",
              "<style scoped>\n",
              "    .dataframe tbody tr th:only-of-type {\n",
              "        vertical-align: middle;\n",
              "    }\n",
              "\n",
              "    .dataframe tbody tr th {\n",
              "        vertical-align: top;\n",
              "    }\n",
              "\n",
              "    .dataframe thead th {\n",
              "        text-align: right;\n",
              "    }\n",
              "</style>\n",
              "<table border=\"1\" class=\"dataframe\">\n",
              "  <thead>\n",
              "    <tr style=\"text-align: right;\">\n",
              "      <th></th>\n",
              "      <th>FinInstrmGnlAttrbts.Id</th>\n",
              "      <th>FinInstrmGnlAttrbts.FullNm</th>\n",
              "      <th>FinInstrmGnlAttrbts.ClssfctnTp</th>\n",
              "      <th>FinInstrmGnlAttrbts.CmmdtyDerivInd</th>\n",
              "      <th>FinInstrmGnlAttrbts.NtnlCcy</th>\n",
              "      <th>Issr</th>\n",
              "    </tr>\n",
              "  </thead>\n",
              "  <tbody>\n",
              "    <tr>\n",
              "      <th>0</th>\n",
              "      <td>DE000A1R07V3</td>\n",
              "      <td>Kreditanst.f.Wiederaufbau     Anl.v.2014 (2021)</td>\n",
              "      <td>DBFTFB</td>\n",
              "      <td>false</td>\n",
              "      <td>EUR</td>\n",
              "      <td>549300GDPG70E3MBBU98</td>\n",
              "    </tr>\n",
              "    <tr>\n",
              "      <th>1</th>\n",
              "      <td>DE000A1R07V3</td>\n",
              "      <td>KFW 1 5/8 01/15/21</td>\n",
              "      <td>DBFTFB</td>\n",
              "      <td>false</td>\n",
              "      <td>EUR</td>\n",
              "      <td>549300GDPG70E3MBBU98</td>\n",
              "    </tr>\n",
              "    <tr>\n",
              "      <th>2</th>\n",
              "      <td>DE000A1R07V3</td>\n",
              "      <td>Kreditanst.f.Wiederaufbau Anl.v.2014 (2021)</td>\n",
              "      <td>DBFTFB</td>\n",
              "      <td>false</td>\n",
              "      <td>EUR</td>\n",
              "      <td>549300GDPG70E3MBBU98</td>\n",
              "    </tr>\n",
              "    <tr>\n",
              "      <th>3</th>\n",
              "      <td>DE000A1R07V3</td>\n",
              "      <td>Kreditanst.f.Wiederaufbau Anl.v.2014 (2021)</td>\n",
              "      <td>DBFTFB</td>\n",
              "      <td>false</td>\n",
              "      <td>EUR</td>\n",
              "      <td>549300GDPG70E3MBBU98</td>\n",
              "    </tr>\n",
              "    <tr>\n",
              "      <th>4</th>\n",
              "      <td>DE000A1X3J56</td>\n",
              "      <td>IKB Deutsche Industriebank AG Stufenz.MTN-IHS ...</td>\n",
              "      <td>DTVUFB</td>\n",
              "      <td>false</td>\n",
              "      <td>EUR</td>\n",
              "      <td>PWEFG14QWWESISQ84C69</td>\n",
              "    </tr>\n",
              "  </tbody>\n",
              "</table>\n",
              "</div>\n",
              "      <button class=\"colab-df-convert\" onclick=\"convertToInteractive('df-7aad2756-9dda-41f5-bcdf-21e00ad6657d')\"\n",
              "              title=\"Convert this dataframe to an interactive table.\"\n",
              "              style=\"display:none;\">\n",
              "        \n",
              "  <svg xmlns=\"http://www.w3.org/2000/svg\" height=\"24px\"viewBox=\"0 0 24 24\"\n",
              "       width=\"24px\">\n",
              "    <path d=\"M0 0h24v24H0V0z\" fill=\"none\"/>\n",
              "    <path d=\"M18.56 5.44l.94 2.06.94-2.06 2.06-.94-2.06-.94-.94-2.06-.94 2.06-2.06.94zm-11 1L8.5 8.5l.94-2.06 2.06-.94-2.06-.94L8.5 2.5l-.94 2.06-2.06.94zm10 10l.94 2.06.94-2.06 2.06-.94-2.06-.94-.94-2.06-.94 2.06-2.06.94z\"/><path d=\"M17.41 7.96l-1.37-1.37c-.4-.4-.92-.59-1.43-.59-.52 0-1.04.2-1.43.59L10.3 9.45l-7.72 7.72c-.78.78-.78 2.05 0 2.83L4 21.41c.39.39.9.59 1.41.59.51 0 1.02-.2 1.41-.59l7.78-7.78 2.81-2.81c.8-.78.8-2.07 0-2.86zM5.41 20L4 18.59l7.72-7.72 1.47 1.35L5.41 20z\"/>\n",
              "  </svg>\n",
              "      </button>\n",
              "      \n",
              "  <style>\n",
              "    .colab-df-container {\n",
              "      display:flex;\n",
              "      flex-wrap:wrap;\n",
              "      gap: 12px;\n",
              "    }\n",
              "\n",
              "    .colab-df-convert {\n",
              "      background-color: #E8F0FE;\n",
              "      border: none;\n",
              "      border-radius: 50%;\n",
              "      cursor: pointer;\n",
              "      display: none;\n",
              "      fill: #1967D2;\n",
              "      height: 32px;\n",
              "      padding: 0 0 0 0;\n",
              "      width: 32px;\n",
              "    }\n",
              "\n",
              "    .colab-df-convert:hover {\n",
              "      background-color: #E2EBFA;\n",
              "      box-shadow: 0px 1px 2px rgba(60, 64, 67, 0.3), 0px 1px 3px 1px rgba(60, 64, 67, 0.15);\n",
              "      fill: #174EA6;\n",
              "    }\n",
              "\n",
              "    [theme=dark] .colab-df-convert {\n",
              "      background-color: #3B4455;\n",
              "      fill: #D2E3FC;\n",
              "    }\n",
              "\n",
              "    [theme=dark] .colab-df-convert:hover {\n",
              "      background-color: #434B5C;\n",
              "      box-shadow: 0px 1px 3px 1px rgba(0, 0, 0, 0.15);\n",
              "      filter: drop-shadow(0px 1px 2px rgba(0, 0, 0, 0.3));\n",
              "      fill: #FFFFFF;\n",
              "    }\n",
              "  </style>\n",
              "\n",
              "      <script>\n",
              "        const buttonEl =\n",
              "          document.querySelector('#df-7aad2756-9dda-41f5-bcdf-21e00ad6657d button.colab-df-convert');\n",
              "        buttonEl.style.display =\n",
              "          google.colab.kernel.accessAllowed ? 'block' : 'none';\n",
              "\n",
              "        async function convertToInteractive(key) {\n",
              "          const element = document.querySelector('#df-7aad2756-9dda-41f5-bcdf-21e00ad6657d');\n",
              "          const dataTable =\n",
              "            await google.colab.kernel.invokeFunction('convertToInteractive',\n",
              "                                                     [key], {});\n",
              "          if (!dataTable) return;\n",
              "\n",
              "          const docLinkHtml = 'Like what you see? Visit the ' +\n",
              "            '<a target=\"_blank\" href=https://colab.research.google.com/notebooks/data_table.ipynb>data table notebook</a>'\n",
              "            + ' to learn more about interactive tables.';\n",
              "          element.innerHTML = '';\n",
              "          dataTable['output_type'] = 'display_data';\n",
              "          await google.colab.output.renderOutput(dataTable, element);\n",
              "          const docLink = document.createElement('div');\n",
              "          docLink.innerHTML = docLinkHtml;\n",
              "          element.appendChild(docLink);\n",
              "        }\n",
              "      </script>\n",
              "    </div>\n",
              "  </div>\n",
              "  "
            ]
          },
          "metadata": {},
          "execution_count": 14
        }
      ]
    },
    {
      "cell_type": "code",
      "source": [
        "DF.to_csv('/content/sample_data/new_folder/data.csv')"
      ],
      "metadata": {
        "id": "87WtJ8g6E31t"
      },
      "execution_count": null,
      "outputs": []
    }
  ]
}